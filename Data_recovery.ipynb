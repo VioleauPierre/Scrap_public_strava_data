{
 "cells": [
  {
   "cell_type": "code",
   "execution_count": null,
   "id": "57550f9a",
   "metadata": {
    "tags": []
   },
   "outputs": [],
   "source": [
    "import requests\n",
    "import json\n",
    "from bs4 import BeautifulSoup\n",
    "import time\n",
    "from selenium import webdriver\n",
    "from selenium.webdriver.common.action_chains import ActionChains\n",
    "from selenium.webdriver.common.by import By\n",
    "from selenium.webdriver.support.ui import WebDriverWait\n",
    "from selenium.webdriver.support import expected_conditions as EC\n",
    "from selenium.webdriver.common.keys import Keys\n",
    "from datetime import datetime\n",
    "import functions_strava as fs"
   ]
  },
  {
   "cell_type": "markdown",
   "id": "67a99b12-31d1-401b-9feb-55de785f3517",
   "metadata": {},
   "source": [
    "<h1>Tables of Contents<span class=\"tocSkip\"></span></h1>\n",
    "<div class=\"toc\">\n",
    "  <ul class=\"toc-item\">\n",
    "    <li>\n",
    "      <span><a href=\"#1.-Open-and-save-file\" data-toc-modified-id=\"1.-Open-and-save-file-0.1\">1. Open and save file</a></span>\n",
    "    </li>\n",
    "    <li>\n",
    "      <span><a href=\"#2.-Retrieve-activity-ID\" data-toc-modified-id=\"2.-Retrieve-activity-ID-1\">2. Retrieve activity ID</a></span>\n",
    "      <ul class=\"toc-item\">\n",
    "        <li><span><a href=\"#2.1-Login-to-Strava\" data-toc-modified-id=\"2.1-Login-to-Strava-1.1\">2.1 Login to Strava</a></span></li>\n",
    "        <li><span><a href=\"#2.2-Loop-on-all-week-of-the-interval\" data-toc-modified-id=\"2.2-Loop-on-all-week-of-the-interval-1.2\">2.2 Loop on all week of the interval</a></span></li>\n",
    "        <li><span><a href=\"#2.3-Dealing-with-HT-activity-and-manually-input-activity\" data-toc-modified-id=\"2.3-Dealing-with-HT-activity-and-manually-input-activity-1.3\">2.3 Dealing with HT activity and manually input activity</a></span></li>\n",
    "      </ul>\n",
    "    </li>\n",
    "    <li>\n",
    "      <span><a href=\"#3.-Retrieve-activity-data\" data-toc-modified-id=\"3.-Retrieve-activity-data-2\">3. Retrieve activity data</a></span>\n",
    "      <ul class=\"toc-item\">\n",
    "        <li><span><a href=\"#3.1-Loop-to-retrieve-activity-data\" data-toc-modified-id=\"3.1-Loop-to-retrieve-activity-data-2.1\">3.1 Loop to retrieve activity data</a></span></li>\n",
    "        <li><span><a href=\"#3.2-Loop-to-retrieve-activity-date-and-type\" data-toc-modified-id=\"3.2-Loop-to-retrieve-activity-date-and-type-2.2\">3.2 Loop to retrieve activity date and type</a></span></li>\n",
    "      </ul>\n",
    "    </li>\n",
    "    <li><span><a href=\"#4.-Deleting-the-data-when-not-moving-and-useless-field\" data-toc-modified-id=\"4.-Deleting-the-data-when-not-moving-and-useless-field-3\">4. Deleting the data when not moving and useless field</a></span></li>\n",
    "  </ul>\n",
    "</div>"
   ]
  },
  {
   "cell_type": "markdown",
   "id": "f6a2cbcd-775e-4e2f-aca5-e56d631d4937",
   "metadata": {
    "tags": []
   },
   "source": [
    "## 1. Open and save file "
   ]
  },
  {
   "cell_type": "code",
   "execution_count": null,
   "id": "eed4fa55-b782-44c1-b99e-5892627b1b3d",
   "metadata": {},
   "outputs": [],
   "source": [
    "#save list\n",
    "fs.save_list(List_ID, \"List_ID_201201_201219\");"
   ]
  },
  {
   "cell_type": "code",
   "execution_count": null,
   "id": "7e12cf0a-1333-4d03-9bb2-33fcf41499b9",
   "metadata": {},
   "outputs": [],
   "source": [
    "#load list\n",
    "List_ID = fs.load_list(\"List_ID_201201_201219\");\n",
    "len(List_ID)"
   ]
  },
  {
   "cell_type": "code",
   "execution_count": null,
   "id": "76d5e516-495f-41b6-b31b-639f20eb174a",
   "metadata": {},
   "outputs": [],
   "source": [
    "#save dataset\n",
    "fs.save_dataset(Dataset);"
   ]
  },
  {
   "cell_type": "code",
   "execution_count": null,
   "id": "36525009-a9d6-4e1f-b4e0-7e898aa33a34",
   "metadata": {},
   "outputs": [],
   "source": [
    "#load dataset\n",
    "Dataset = fs.load_dataset();\n",
    "len(Dataset)"
   ]
  },
  {
   "cell_type": "markdown",
   "id": "fe96935f-0a61-45bd-ae56-f4fe0b6220be",
   "metadata": {},
   "source": [
    "To limit the size of the file and avoid too much latency you can use several datafile"
   ]
  },
  {
   "cell_type": "code",
   "execution_count": null,
   "id": "d6aaf0e6-ef6e-4ce4-8dba-6714d869e85d",
   "metadata": {},
   "outputs": [],
   "source": [
    "# Define the filename for the JSON file\n",
    "filename = \"Dataset_training_2013_2018.json\"\n",
    "\n",
    "# Open the JSON file and load its contents into a dictionary\n",
    "with open(filename, \"r\") as f:\n",
    "    Dataset_13_18 = json.load(f)\n"
   ]
  },
  {
   "cell_type": "code",
   "execution_count": null,
   "id": "ee305b12-659f-4f75-89b2-6155fb3b0787",
   "metadata": {
    "tags": []
   },
   "outputs": [],
   "source": [
    "# Define the filename for the JSON file\n",
    "filename = \"Dataset_training_Manual.json\"\n",
    "\n",
    "# Save the dictionary as a JSON file\n",
    "with open(filename, \"w\") as f:\n",
    "    json.dump(Dataset_training_Manual, f)"
   ]
  },
  {
   "cell_type": "markdown",
   "id": "52c29a30-f0b9-4037-9036-e6764fb4fbeb",
   "metadata": {
    "tags": []
   },
   "source": [
    "# 2. Retrieve activity ID"
   ]
  },
  {
   "cell_type": "markdown",
   "id": "fb7e09da-f277-4a01-a569-687b5d3a00c1",
   "metadata": {},
   "source": [
    "## 2.1 Login to Strava"
   ]
  },
  {
   "cell_type": "markdown",
   "id": "11ec3ff4-f9b5-43a2-81dc-de79469a4051",
   "metadata": {},
   "source": [
    "To acces and recover all the public data of strava, we first need to login :"
   ]
  },
  {
   "cell_type": "code",
   "execution_count": null,
   "id": "558701b1-5c9c-42aa-b6b9-610cf3b4780d",
   "metadata": {},
   "outputs": [],
   "source": [
    "driver = fs.strava_login_selen();"
   ]
  },
  {
   "cell_type": "markdown",
   "id": "4c643a5a-2c0f-4147-a686-2335e84d4ac1",
   "metadata": {},
   "source": [
    "## 2.2 Loop on all week of the interval"
   ]
  },
  {
   "cell_type": "code",
   "execution_count": null,
   "id": "54448a65-f871-4c4d-9c68-50961bac658d",
   "metadata": {},
   "outputs": [],
   "source": [
    "#Define the starting point and ending point of the loop\n",
    "start = 201201\n",
    "end = 201219\n",
    "\n",
    "interval = fs.interval_loop(start,end)"
   ]
  },
  {
   "cell_type": "code",
   "execution_count": null,
   "id": "c40844cb-454f-49ea-8fca-4a52aca37f02",
   "metadata": {},
   "outputs": [],
   "source": [
    "#Retrieve activity ID \n",
    "List_ID = fs.get_activity_ID(interval, driver)\n",
    "len(List_ID)"
   ]
  },
  {
   "cell_type": "code",
   "execution_count": null,
   "id": "6a8b23f5-6643-46c6-a1ac-4e70ede0a4cf",
   "metadata": {},
   "outputs": [],
   "source": [
    "List_ID"
   ]
  },
  {
   "cell_type": "markdown",
   "id": "329464ca-1752-4cf3-8996-030328870cb7",
   "metadata": {},
   "source": [
    "## 2.3 Dealing with HT activity and manually input activity"
   ]
  },
  {
   "cell_type": "code",
   "execution_count": null,
   "id": "0edba704-8994-4619-a79f-884885bed2c3",
   "metadata": {},
   "outputs": [],
   "source": [
    "# Add Home trainer activity\n",
    "List_ID_HT=[\"147426850\",\"667135113\",\"1104286349\",\"1500094060\",\"2926777241\",\"2926777163\",\"3291863486\",\"3291865260\",\"3527747185\",\"3564333412\",\"3559969298\",\"4596814497\",\"4692053243\",\"4692053249\",\"5540126838\",\"5749870577\",\"5745660704\",\"6443383825\",\"7398671957\",\"8669736110\",\"8818255598\",\"9020996966\"]"
   ]
  },
  {
   "cell_type": "code",
   "execution_count": null,
   "id": "2e0fbe14-d4c5-421f-a477-6a767cb70ef2",
   "metadata": {
    "tags": []
   },
   "outputs": [],
   "source": [
    "# Add manually input activity\n",
    "List_ID_Manual=[\"283039268\",\"386635246\",\"430450073\",\"482259029\",\"608203721\",\"608204685\",\"670797424\",\"686858551\",\"720033312\",\"833112424\",\"841142478\",\"839894491\",\"839894291\",\"933637680\",\"959102402\",\"993065367\",\"999077157\",\"1003849466\",\"1014854217\",\"1176432990\",\"1271237120\",\"1395932601\",\"1503881192\",\"1503879445\",\"1503877605\",\"1985361995\",\"1985361646\",\"1985361504\",\"3122368544\",\"3184001613\",\"3209030117\",\"3810865502\",\"3872485004\",\"5111137080\",\"5285673554\",\"5426371236\",\"5565025517\",\"6267914197\",\"7037356576\",\"8398585701\"]"
   ]
  },
  {
   "cell_type": "code",
   "execution_count": null,
   "id": "2cf713d2-dc7a-493e-905e-2eaa8040a635",
   "metadata": {},
   "outputs": [],
   "source": [
    "#Dataset_training_HT={}"
   ]
  },
  {
   "cell_type": "code",
   "execution_count": null,
   "id": "4e9b9048-d5e3-4dfb-8a77-4ac65659ed4c",
   "metadata": {
    "tags": []
   },
   "outputs": [],
   "source": [
    "#Dataset_training_Manual={}"
   ]
  },
  {
   "cell_type": "code",
   "execution_count": null,
   "id": "54e3f780-435d-4dcc-b5a4-673a3657d3b3",
   "metadata": {},
   "outputs": [],
   "source": [
    "#Retrieve home trainer activity data\n",
    "def get_activity_HT_data(List_ID_Load,Dataset,driver):\n",
    "    # Loop for the outdoor ride \n",
    "    for ID in List_ID_Load : \n",
    "        if ID in Dataset :\n",
    "            time.sleep(0.01)\n",
    "        else :\n",
    "            print(ID)\n",
    "            # Open new window which contain the activity data\n",
    "            driver.switch_to.window(driver.window_handles[0])\n",
    "            driver.execute_script(\"window.open('');\")\n",
    "            driver.switch_to.window(driver.window_handles[-1])\n",
    "            time.sleep(0.02)\n",
    "            driver.get(f\"https://www.strava.com/activities/{ID}/streams?stream_types%5B%5D=time&stream_types%5B%5D=heartrate&stream_types%5B%5D=altitude&stream_types%5B%5D=distance&stream_types%5B%5D=moving&stream_types%5B%5D=velocity_smooth&stream_types%5B%5D=cadence&stream_types%5B%5D=latlng&stream_types%5B%5D=watts&stream_types%5B%5D=watts_calc&stream_types%5B%5D=grade_adjusted_distance&stream_types%5B%5D=temp&stream_types%5B%5D=grade_smooth\")\n",
    "            time.sleep(0.5)\n",
    "            # Recover all the content\n",
    "            activity_raw=driver.page_source\n",
    "    \n",
    "            # Keep only the useful infos\n",
    "            activity_clean=activity_raw.split('\">')[2].split('<')[0]\n",
    "    \n",
    "            # Convert them as dictionnary\n",
    "            activity_dict = json.loads(activity_clean)\n",
    "    \n",
    "            # Add them to the dataset\n",
    "            Dataset[ID]=activity_dict\n",
    "            driver.execute_script(\"window.close();\")\n",
    "        time.sleep(0.4)\n",
    "    return Dataset\n",
    "\n",
    "Dataset_training_HT = get_activity_HT_data(List_ID_HT,Dataset_training_HT,driver)"
   ]
  },
  {
   "cell_type": "code",
   "execution_count": null,
   "id": "88d92433-e3e2-4b48-b037-2d9cf4058bb5",
   "metadata": {},
   "outputs": [],
   "source": [
    "#Retrieve home trainer activity type and date :\n",
    "\n",
    "def get_activity_HT_type_date(session,Dataset):\n",
    "    for ID in Dataset : \n",
    "        if \"date\" in Dataset[ID] :\n",
    "            time.sleep(0.01) \n",
    "        else :\n",
    "            \n",
    "            # Fetch the web page\n",
    "            url = f\"https://www.strava.com/activities/{ID}\"\n",
    "\n",
    "            # Send a GET request to the URL and retrieve the HTML content\n",
    "            response = session.get(url)\n",
    "            print(response)\n",
    "            time.sleep(1)\n",
    "            html_content = response.content\n",
    "\n",
    "            # Parse the HTML content with BeautifulSoup\n",
    "            soup = BeautifulSoup(html_content, 'html.parser')\n",
    "            print(ID)\n",
    "            # Recover the date of the activity\n",
    "            time_element = soup.find(\"time\")\n",
    "            time_text = time_element.get_text(strip=True)\n",
    "\n",
    "            # Convert time string to datetime object\n",
    "            try:\n",
    "                # Try parsing with format '%I:%M %p on %A, %B %d, %Y'\n",
    "                datetime_obj = datetime.strptime(time_text, '%I:%M %p on %A, %B %d, %Y')\n",
    "            except ValueError:\n",
    "                try:\n",
    "                    # Try parsing with format '%A, %B %d, %Y'\n",
    "                    datetime_obj = datetime.strptime(time_text, '%A, %B %d, %Y')\n",
    "                except ValueError:\n",
    "                    return None\n",
    "            #datetime_obj = datetime.strptime(time_text, '%I:%M %p on %A, %B %d, %Y')\n",
    "            #datetime_obj = datetime.strptime(time_text, '%A, %B %d, %Y')\n",
    "\n",
    "            # Format datetime object to desired format\n",
    "            date_clean = datetime_obj.strftime('%d/%m/%Y')\n",
    "\n",
    "            time.sleep(0.3)\n",
    "    \n",
    "            # Recover the type of activity\n",
    "            type_raw = soup.find('title')\n",
    "            \n",
    "            type_clean = type_raw.string.split('| ')[1].split(' |')[0]\n",
    "    \n",
    "            # Add the date and type to the correspnding activity in the dataset\n",
    "            Dataset[ID][\"date\"]=date_clean\n",
    "            Dataset[ID][\"type\"]=type_clean\n",
    "    return Dataset\n",
    "\n",
    "\n",
    "Dataset_training_HT = get_activity_HT_type_date(session,Dataset_training_HT )"
   ]
  },
  {
   "cell_type": "code",
   "execution_count": null,
   "id": "ad338f1b-5743-40e3-bfba-d83461ac6c0b",
   "metadata": {
    "tags": []
   },
   "outputs": [],
   "source": [
    "#Retrieve manually input activity type and date, distance and duration\n",
    "\n",
    "def get_activity_manual_type_date(List_ID_Load,session,Dataset):\n",
    "    for ID in List_ID_Load :\n",
    "        if ID in Dataset :\n",
    "            time.sleep(0.01) \n",
    "        else :\n",
    "            \n",
    "            # Fetch the web page\n",
    "            url = f\"https://www.strava.com/activities/{ID}\"\n",
    "\n",
    "            # Send a GET request to the URL and retrieve the HTML content\n",
    "            response = session.get(url)\n",
    "            print(response)\n",
    "            time.sleep(1)\n",
    "            html_content = response.content\n",
    "\n",
    "            # Parse the HTML content with BeautifulSoup\n",
    "            soup = BeautifulSoup(html_content, 'html.parser')\n",
    "            print(ID)\n",
    "            # Recover the distance of the activity\n",
    "            kilometer_element = soup.find('abbr', {'title': 'kilometers'})\n",
    "            kilometer_clean = kilometer_element.previous_sibling.strip()\n",
    "\n",
    "            # Recover the duration of the activity\n",
    "             \n",
    "            duration_element = soup.find('div', class_='label', string='Duration')\n",
    "            if duration_element is None:\n",
    "                divs = soup.find_all('div', class_='label')\n",
    "                duration_value = divs[1].find_previous_sibling('strong').text.strip()\n",
    "            else :\n",
    "                duration_value = duration_element.find_previous_sibling('strong').text.strip()\n",
    "\n",
    "            # Check the number of colons in the time string\n",
    "            if duration_value.count(':') == 2:\n",
    "                # If there are two colons, parse with format '%H:%M:%S'\n",
    "                duration_timedelta = datetime.strptime(duration_value, '%H:%M:%S')\n",
    "            else:\n",
    "                # If there is one colon, parse with format '%M:%S'\n",
    "                duration_timedelta = datetime.strptime(duration_value, '%M:%S')\n",
    "\n",
    "            # Format the duration as hh:mm:ss\n",
    "            duration_clean = duration_timedelta.strftime('%H:%M:%S')\n",
    "\n",
    "        \n",
    "            # Recover the date of the activity\n",
    "            time_element = soup.find(\"time\")\n",
    "            time_text = time_element.get_text(strip=True)\n",
    "            \n",
    "            # Convert time string to datetime object\n",
    "            try:\n",
    "                # Try parsing with format '%I:%M %p on %A, %B %d, %Y'\n",
    "                datetime_obj = datetime.strptime(time_text, '%I:%M %p on %A, %B %d, %Y')\n",
    "            except ValueError:\n",
    "                try:\n",
    "                    # Try parsing with format '%A, %B %d, %Y'\n",
    "                    datetime_obj = datetime.strptime(time_text, '%A, %B %d, %Y')\n",
    "                except ValueError:\n",
    "                    return None\n",
    "            #datetime_obj = datetime.strptime(time_text, '%I:%M %p on %A, %B %d, %Y')\n",
    "            #datetime_obj = datetime.strptime(time_text, '%A, %B %d, %Y')\n",
    "\n",
    "            # Format datetime object to desired format\n",
    "            date_clean = datetime_obj.strftime('%d/%m/%Y')\n",
    "\n",
    "            time.sleep(0.3)\n",
    "            # Add a new key-value pair\n",
    "            Dataset[ID] = {}\n",
    "            # Recover the type of activity\n",
    "            type_raw = soup.find('title')\n",
    "            \n",
    "            type_clean = type_raw.string.split('| ')[1].split(' |')[0]\n",
    "    \n",
    "            # Add the date and type to the correspnding activity in the dataset\n",
    "            Dataset[ID][\"date\"]=date_clean\n",
    "            Dataset[ID][\"type\"]=type_clean\n",
    "            Dataset[ID][\"Distance (Km)\"]=kilometer_clean\n",
    "            Dataset[ID][\"Duration (hh:mm:ss)\"]=duration_clean\n",
    "    return Dataset\n",
    "\n",
    "\n",
    "Dataset_training_Manual = get_activity_manual_type_date(List_ID_Manual,session,Dataset_training_Manual)"
   ]
  },
  {
   "cell_type": "markdown",
   "id": "eaacc1f4-2e74-451f-b0c9-f00e6b54c1d0",
   "metadata": {
    "tags": []
   },
   "source": [
    "# 3. Retrieve activity data"
   ]
  },
  {
   "cell_type": "markdown",
   "id": "0655a7f8-a593-4c74-8ccc-8c6fea717fe7",
   "metadata": {},
   "source": [
    "## 3.1 Loop to retrieve activity data"
   ]
  },
  {
   "cell_type": "code",
   "execution_count": null,
   "id": "e3f4da11-cd3d-401c-9438-3dd1a15e2d94",
   "metadata": {},
   "outputs": [],
   "source": [
    "# Retrieving activity data and store it in the dataset\n",
    "Dataset = fs.get_activity_data(List_ID,Dataset,driver)"
   ]
  },
  {
   "cell_type": "code",
   "execution_count": null,
   "id": "517f3476-b4e2-46ae-b4fc-65330c17bbd0",
   "metadata": {},
   "outputs": [],
   "source": [
    "# check value of Dataset after retrieving data\n",
    "len(Dataset)"
   ]
  },
  {
   "cell_type": "code",
   "execution_count": null,
   "id": "3ec961e8-5733-4de9-a9cb-150a36f96ed4",
   "metadata": {},
   "outputs": [],
   "source": []
  },
  {
   "cell_type": "markdown",
   "id": "93f90356-9611-4656-86f1-ff6eb93ffc9a",
   "metadata": {},
   "source": [
    "## 3.2 Loop to retrieve activity date and type"
   ]
  },
  {
   "cell_type": "code",
   "execution_count": null,
   "id": "773a915b-4301-4509-b291-138b2e7a45b2",
   "metadata": {},
   "outputs": [],
   "source": [
    "#We need to sign in in order too make several request without having error 429\n",
    "session = requests.Session()\n",
    "login_response = session.get('https://strava.com/login')\n",
    "soup = BeautifulSoup(login_response.text)\n",
    "token = soup.find('input', {'name': 'authenticity_token'}).get('value')\n",
    "print(f\"Token {token}\")\n",
    "response = session.post('https://www.strava.com/session', data={'email':'violeau.p@gmail.com', 'password':'Tabu6415', 'authenticity_token': token})\n",
    "print(response)"
   ]
  },
  {
   "cell_type": "code",
   "execution_count": null,
   "id": "16f7a495-3440-4fd9-a19e-444aa1a0f561",
   "metadata": {},
   "outputs": [],
   "source": [
    "#Retrieve date and type of activity and had them to the dataset\n",
    "Dataset = fs.get_activity_type_date(session,Dataset_13_18)"
   ]
  },
  {
   "cell_type": "code",
   "execution_count": null,
   "id": "088396dc-5af8-4100-a523-3b0f6ab52ce4",
   "metadata": {},
   "outputs": [],
   "source": [
    "def get_activity_type_date(session,Dataset):\n",
    "    for ID in Dataset : \n",
    "        if \"date\" in Dataset[ID] :\n",
    "            time.sleep(0.01) \n",
    "        else :\n",
    "           # Fetch the web page\n",
    "            url = f\"https://www.strava.com/activities/{ID}\"\n",
    "\n",
    "            # Send a GET request to the URL and retrieve the HTML content\n",
    "            response = session.get(url)\n",
    "            print(response)\n",
    "            time.sleep(1)\n",
    "            html_content = response.content\n",
    "\n",
    "            # Parse the HTML content with BeautifulSoup\n",
    "            soup = BeautifulSoup(html_content, 'html.parser')\n",
    "            print(ID)\n",
    "            # Recover the distance of the activity\n",
    "            kilometer_element = soup.find('abbr', {'title': 'kilometers'})\n",
    "            kilometer_clean = kilometer_element.previous_sibling.strip()\n",
    "\n",
    "            # Recover the duration of the activity\n",
    "             \n",
    "            duration_element = soup.find('div', class_='label', string='Duration')\n",
    "            if duration_element is None:\n",
    "                divs = soup.find_all('div', class_='label')\n",
    "                duration_value = divs[1].find_previous_sibling('strong').text.strip()\n",
    "            else :\n",
    "                duration_value = duration_element.find_previous_sibling('strong').text.strip()\n",
    "\n",
    "            # Check the number of colons in the time string\n",
    "            if duration_value.count(':') == 2:\n",
    "                # If there are two colons, parse with format '%H:%M:%S'\n",
    "                duration_timedelta = datetime.strptime(duration_value, '%H:%M:%S')\n",
    "            else:\n",
    "                # If there is one colon, parse with format '%M:%S'\n",
    "                duration_timedelta = datetime.strptime(duration_value, '%M:%S')\n",
    "\n",
    "            # Format the duration as hh:mm:ss\n",
    "            duration_clean = duration_timedelta.strftime('%H:%M:%S')\n",
    "\n",
    "        \n",
    "            # Recover the date of the activity\n",
    "            time_element = soup.find(\"time\")\n",
    "            time_text = time_element.get_text(strip=True)\n",
    "            \n",
    "            # Convert time string to datetime object\n",
    "            try:\n",
    "                # Try parsing with format '%I:%M %p on %A, %B %d, %Y'\n",
    "                datetime_obj = datetime.strptime(time_text, '%I:%M %p on %A, %B %d, %Y')\n",
    "            except ValueError:\n",
    "                try:\n",
    "                    # Try parsing with format '%A, %B %d, %Y'\n",
    "                    datetime_obj = datetime.strptime(time_text, '%A, %B %d, %Y')\n",
    "                except ValueError:\n",
    "                    return None\n",
    "            #datetime_obj = datetime.strptime(time_text, '%I:%M %p on %A, %B %d, %Y')\n",
    "            #datetime_obj = datetime.strptime(time_text, '%A, %B %d, %Y')\n",
    "\n",
    "            # Format datetime object to desired format\n",
    "            date_clean = datetime_obj.strftime('%d/%m/%Y')\n",
    "\n",
    "            time.sleep(0.3)\n",
    "            # Add a new key-value pair\n",
    "            Dataset[ID] = {}\n",
    "            # Recover the type of activity\n",
    "            type_raw = soup.find('title')\n",
    "            \n",
    "            type_clean = type_raw.string.split('| ')[1].split(' |')[0]\n",
    "    \n",
    "            # Add the date and type to the correspnding activity in the dataset\n",
    "            Dataset[ID][\"date\"]=date_clean\n",
    "            Dataset[ID][\"type\"]=type_clean\n",
    "            Dataset[ID][\"Distance (Km)\"]=kilometer_clean\n",
    "            Dataset[ID][\"Duration (hh:mm:ss)\"]=duration_clean\n",
    "    return Dataset\n",
    "\n",
    "\n",
    "Dataset = get_activity_type_date(session,Dataset)"
   ]
  },
  {
   "cell_type": "code",
   "execution_count": null,
   "id": "15270160-8fe4-49e7-8e36-91eb8d9011b4",
   "metadata": {},
   "outputs": [],
   "source": []
  },
  {
   "cell_type": "code",
   "execution_count": null,
   "id": "78d3af3a-bd82-4dc8-a766-a16273c24027",
   "metadata": {},
   "outputs": [],
   "source": []
  },
  {
   "cell_type": "markdown",
   "id": "0fdb87a9-4520-4ff9-8f10-43a9052b84a4",
   "metadata": {
    "tags": []
   },
   "source": [
    "# 4. Deleting the data when not moving and useless field"
   ]
  },
  {
   "cell_type": "code",
   "execution_count": null,
   "id": "3fa8d65c-203c-4717-85c4-42d7001f6014",
   "metadata": {},
   "outputs": [],
   "source": [
    "for ID in Dataset : \n",
    "        if \"watts_calc\" in Dataset[ID] :\n",
    "            del Dataset[ID][\"watts_calc\"]\n",
    "        else :\n",
    "            continue"
   ]
  },
  {
   "cell_type": "code",
   "execution_count": null,
   "id": "4c5c3f2e-6e8d-4eee-9fa9-62f8fdbb8fc5",
   "metadata": {},
   "outputs": [],
   "source": [
    "for ID in Dataset : \n",
    "        if \"grade_smooth\" in Dataset[ID] :\n",
    "            del Dataset[ID][\"grade_smooth\"]\n",
    "        else :\n",
    "            continue"
   ]
  },
  {
   "cell_type": "code",
   "execution_count": null,
   "id": "cd5aca4e-cb9c-4461-a622-766f1c6284b9",
   "metadata": {},
   "outputs": [],
   "source": [
    "for ID in Dataset : \n",
    "    if  \"moving\" in Dataset[ID] :\n",
    "        for data_type in Dataset[ID]:\n",
    "            if (data_type != \"moving\") and (data_type != \"date\") and (data_type != \"type\"):\n",
    "                if len(Dataset[ID][\"moving\"]) == len(Dataset[ID][data_type]) :\n",
    "                    Dataset[ID][data_type] = [Dataset[ID][data_type][i] for i in range(len(Dataset[ID][\"moving\"])) if Dataset[ID][\"moving\"][i]]\n",
    "                else :\n",
    "                    continue\n",
    "            else :\n",
    "                continue\n",
    "    else :\n",
    "        continue"
   ]
  },
  {
   "cell_type": "code",
   "execution_count": null,
   "id": "c2fd3efd-60aa-41cb-9596-a343a2675dcd",
   "metadata": {},
   "outputs": [],
   "source": [
    "for ID in Dataset : \n",
    "    if  \"moving\" in Dataset[ID] :\n",
    "        if len(Dataset[ID][\"moving\"]) != len(Dataset[ID][\"time\"]) :\n",
    "            del Dataset[ID][\"moving\"]\n",
    "        else:\n",
    "            continue\n",
    "    else :\n",
    "        continue"
   ]
  },
  {
   "cell_type": "code",
   "execution_count": null,
   "id": "e88bce66-40f7-443f-a5fc-5ce2f4ff56e4",
   "metadata": {},
   "outputs": [],
   "source": []
  }
 ],
 "metadata": {
  "kernelspec": {
   "display_name": "stravaenv",
   "language": "python",
   "name": "stravaenv"
  },
  "language_info": {
   "codemirror_mode": {
    "name": "ipython",
    "version": 3
   },
   "file_extension": ".py",
   "mimetype": "text/x-python",
   "name": "python",
   "nbconvert_exporter": "python",
   "pygments_lexer": "ipython3",
   "version": "3.11.1"
  },
  "toc": {
   "base_numbering": 1,
   "nav_menu": {},
   "number_sections": false,
   "sideBar": true,
   "skip_h1_title": false,
   "title_cell": "Tables of Contents",
   "title_sidebar": "Contents",
   "toc_cell": true,
   "toc_position": {
    "height": "calc(100% - 180px)",
    "left": "10px",
    "top": "150px",
    "width": "426.667px"
   },
   "toc_section_display": true,
   "toc_window_display": true
  },
  "toc-autonumbering": false,
  "toc-showcode": false,
  "toc-showmarkdowntxt": false,
  "toc-showtags": false
 },
 "nbformat": 4,
 "nbformat_minor": 5
}
